{
 "cells": [
  {
   "cell_type": "code",
   "execution_count": null,
   "metadata": {},
   "outputs": [
    {
     "name": "stdout",
     "output_type": "stream",
     "text": [
      "True\n",
      "90100\n"
     ]
    }
   ],
   "source": [
    "import torch\n",
    "\n",
    "# 定义 LeNet 神经网络\n",
    "net = torch.nn.Sequential(\n",
    "    torch.nn.Conv2d(1, 6, 5),  # 卷积层: 输入通道数1, 输出通道数6, 卷积核大小5x5\n",
    "    torch.nn.ReLU(),           # 激活函数 ReLU\n",
    "    torch.nn.MaxPool2d(2, 2),  # 最大池化层: 池化窗口2x2, 步长2\n",
    "    torch.nn.Conv2d(6, 16, 5), # 卷积层: 输入通道数6, 输出通道数16, 卷积核大小5x5\n",
    "    torch.nn.ReLU(),           # 激活函数 ReLU\n",
    "    torch.nn.MaxPool2d(2, 2),  # 最大池化层: 池化窗口2x2, 步长2\n",
    "    torch.nn.Flatten(),        # 展平层，将多维输入一维化\n",
    "    torch.nn.Linear(16*4*4, 120), # 全连接层: 输入特征数256, 输出特征数120\n",
    "    torch.nn.ReLU(),           # 激活函数 ReLU\n",
    "    torch.nn.Linear(120, 84),  # 全连接层: 输入特征数120, 输出特征数84\n",
    "    torch.nn.ReLU(),           # 激活函数 ReLU\n",
    "    torch.nn.Linear(84, 10)    # 全连接层: 输入特征数84, 输出类别数10\n",
    ")\n"
   ]
  }
 ],
 "metadata": {
  "kernelspec": {
   "display_name": "torch",
   "language": "python",
   "name": "python3"
  },
  "language_info": {
   "codemirror_mode": {
    "name": "ipython",
    "version": 3
   },
   "file_extension": ".py",
   "mimetype": "text/x-python",
   "name": "python",
   "nbconvert_exporter": "python",
   "pygments_lexer": "ipython3",
   "version": "3.10.15"
  }
 },
 "nbformat": 4,
 "nbformat_minor": 2
}
