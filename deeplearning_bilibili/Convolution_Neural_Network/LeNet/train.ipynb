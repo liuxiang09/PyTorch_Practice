{
 "cells": [
  {
   "cell_type": "code",
   "execution_count": null,
   "metadata": {},
   "outputs": [
    {
     "name": "stdout",
     "output_type": "stream",
     "text": [
      "True\n",
      "90100\n"
     ]
    }
   ],
   "source": [
    "import torch\n",
    "\n",
    "# LeNet\n",
    "net = torch.nn.Sequential(\n",
    "    torch.nn.Conv2d(1, 6, 5), torch.nn.ReLU(),\n",
    "    torch.nn.MaxPool2d(2, 2),\n",
    "    torch.nn.Conv2d(6, 16, 5), torch.nn.ReLU(),\n",
    "    torch.nn.MaxPool2d(2, 2), torch.nn.Flatten(),\n",
    "    torch.nn.Linear(16*4*4, 120), torch.nn.ReLU(),\n",
    "    torch.nn.Linear(120, 84), torch.nn.ReLU(),\n",
    "    torch.nn.Linear(84, 10)\n",
    ")\n"
   ]
  }
 ],
 "metadata": {
  "kernelspec": {
   "display_name": "torch",
   "language": "python",
   "name": "python3"
  },
  "language_info": {
   "codemirror_mode": {
    "name": "ipython",
    "version": 3
   },
   "file_extension": ".py",
   "mimetype": "text/x-python",
   "name": "python",
   "nbconvert_exporter": "python",
   "pygments_lexer": "ipython3",
   "version": "3.10.15"
  }
 },
 "nbformat": 4,
 "nbformat_minor": 2
}
